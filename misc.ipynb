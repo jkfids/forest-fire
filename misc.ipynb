{
 "cells": [
  {
   "cell_type": "code",
   "execution_count": null,
   "metadata": {},
   "outputs": [],
   "source": [
    "# Import standard libraries\n",
    "import numpy as np\n",
    "from time import time\n",
    "\n",
    "# Import local modules\n",
    "from forestfire import ForestFire\n",
    "from analysis import *\n",
    "\n",
    "# Create output directory if it does not exist\n",
    "from pathlib import Path\n",
    "Path('animations').mkdir(parents=True, exist_ok=True)\n",
    "Path('plots').mkdir(parents=True, exist_ok=True)"
   ]
  },
  {
   "cell_type": "code",
   "execution_count": null,
   "metadata": {},
   "outputs": [],
   "source": [
    "L = 200\n",
    "forest = ForestFire([L,L], 0.00001, 0.01, spark=True)\n",
    "p0 = [1/L, L**2/5, 100] # Initial guess for gaussian parameters\n",
    "popt = plot_firesizepd(forest, 10000, 20000, p0)"
   ]
  },
  {
   "cell_type": "code",
   "execution_count": null,
   "metadata": {},
   "outputs": [],
   "source": [
    "L = 200\n",
    "forest = ForestFire([L,L], 0.01, 0.01/1000, spark=True)\n",
    "plot_fractionvt(forest, 10000, plot_green=False)"
   ]
  },
  {
   "cell_type": "code",
   "execution_count": null,
   "metadata": {},
   "outputs": [],
   "source": [
    "L = 200\n",
    "forest = ForestFire([L,L], 0.01, 0.00001, spark=True)\n",
    "p0 = [1/L, L**2/5, 100] # Initial guess for gaussian parameters\n",
    "popt = plot_firesizepd(forest, 10000, 20000, p0)"
   ]
  },
  {
   "cell_type": "code",
   "execution_count": null,
   "metadata": {},
   "outputs": [],
   "source": [
    "L = 200\n",
    "forest = ForestFire([L,L], 0.00001, 0.01, spark=True)\n",
    "plot_fractionvt(forest, 20000, green=False)"
   ]
  },
  {
   "cell_type": "code",
   "execution_count": null,
   "metadata": {},
   "outputs": [],
   "source": [
    "L = 720\n",
    "forest = ForestFire([L,L], 0.0001, 0.01)\n",
    "animate_forest(forest, interval=100, frames=200, name='forestfire720.gif')\n",
    "\n",
    "L = 480\n",
    "forest = ForestFire([L,L], 0.0001, 0.01)\n",
    "animate_forest(forest, interval=100, frames=200, name='forestfire480.gif')\n",
    "\n",
    "L = 360\n",
    "forest = ForestFire([L,L], 0.0001, 0.01)\n",
    "animate_forest(forest, interval=100, frames=200, name='forestfire360.gif')"
   ]
  },
  {
   "cell_type": "code",
   "execution_count": null,
   "metadata": {},
   "outputs": [],
   "source": [
    "L = 50\n",
    "forest = ForestFire([L,L], 0, 0.5)\n",
    "animate_forest(forest, interval=200, frames=100, name='forestfire_no_lightning.gif')"
   ]
  }
 ],
 "metadata": {
  "kernelspec": {
   "display_name": "Python 3",
   "language": "python",
   "name": "python3"
  },
  "language_info": {
   "codemirror_mode": {
    "name": "ipython",
    "version": 3
   },
   "file_extension": ".py",
   "mimetype": "text/x-python",
   "name": "python",
   "nbconvert_exporter": "python",
   "pygments_lexer": "ipython3",
   "version": "3.8.5"
  }
 },
 "nbformat": 4,
 "nbformat_minor": 4
}
