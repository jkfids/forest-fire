{
 "cells": [
  {
   "cell_type": "code",
   "execution_count": null,
   "metadata": {},
   "outputs": [],
   "source": [
    "# Import standard libraries\n",
    "import numpy as np\n",
    "from time import time\n",
    "import matplotlib.pyplot as plt\n",
    "\n",
    "# Local modules\n",
    "from forestfire import ForestFire\n",
    "from analysis import *\n",
    "\n",
    "# Create output directory if it does not exist\n",
    "from pathlib import Path\n",
    "Path('animations').mkdir(parents=True, exist_ok=True)\n",
    "Path('plots').mkdir(parents=True, exist_ok=True)"
   ]
  },
  {
   "cell_type": "code",
   "execution_count": null,
   "metadata": {
    "tags": []
   },
   "outputs": [],
   "source": [
    "L = 200\n",
    "forest1 = ForestFire([L,L], 0, 0.5, spark=True)\n",
    "l = 0.01\n",
    "forest2 = ForestFire([L,L], l, l/1000, spark=False)\n",
    "forest3 = ForestFire([L,L], l/1000, l, spark=False)\n",
    "t = [10000, 10000, 10000]\n",
    "N = 100000\n",
    "popt1, popt3 = plot_firesizepd_multi(forest1, forest2, forest3, t, N)\n",
    "print(popt1, popt3)"
   ]
  },
  {
   "cell_type": "code",
   "execution_count": null,
   "metadata": {},
   "outputs": [],
   "source": [
    "L = 200\n",
    "forest = ForestFire([L,L], 0, 0.5, spark=True)\n",
    "forest.step(10000)\n",
    "animate_forest(forest, interval=100, frames=200, name='forestfire_a.gif')\n",
    "\n",
    "L = 200\n",
    "forest = ForestFire([L,L], 0.01, 0.01/1000, spark=True)\n",
    "forest.step(10000)\n",
    "animate_forest(forest, interval=100, frames=200, name='forestfire_b.gif')\n",
    "\n",
    "L = 200\n",
    "forest = ForestFire([L,L], 0.01/1000, 0.01, spark=True)\n",
    "forest.step(10000)\n",
    "animate_forest(forest, interval=100, frames=200, name='forestfire_c.gif')"
   ]
  },
  {
   "cell_type": "code",
   "execution_count": null,
   "metadata": {},
   "outputs": [],
   "source": [
    "L = 200\n",
    "forest = ForestFire([L,L], 0, 0.5, spark=True)\n",
    "forest.step(12000)\n",
    "plt.hist(forest.w_history, density=True, bins='auto')"
   ]
  },
  {
   "cell_type": "code",
   "execution_count": null,
   "metadata": {},
   "outputs": [],
   "source": [
    "L = 200\n",
    "forest1 = ForestFire([L,L], 0, 0.5, spark=True, trackw=True)\n",
    "l = 0.01\n",
    "forest2 = ForestFire([L,L], l, l/1000, spark=False, trackw=True)\n",
    "forest3 = ForestFire([L,L], l/1000, l, spark=False, trackw=True)\n",
    "plot_waitingtimespd_multi(forest1, forest2, forest3, t=2000, N=1000)"
   ]
  },
  {
   "cell_type": "code",
   "execution_count": null,
   "metadata": {},
   "outputs": [],
   "source": [
    "L = 200\n",
    "f = 0.001\n",
    "p = 0.001\n",
    "forest = ForestFire([L,L], f, p, spark=True)\n",
    "plot_fractionvt(forest, 1000000, plot_green=True)\n",
    "t = 990000\n",
    "print(np.mean(forest.s_history[t:])/forest.size, np.mean(forest.g_history[t:])/forest.size)\n",
    "print(calc_steadystate(f, p))"
   ]
  }
 ],
 "metadata": {
  "kernelspec": {
   "display_name": "Python 3",
   "language": "python",
   "name": "python3"
  },
  "language_info": {
   "codemirror_mode": {
    "name": "ipython",
    "version": 3
   },
   "file_extension": ".py",
   "mimetype": "text/x-python",
   "name": "python",
   "nbconvert_exporter": "python",
   "pygments_lexer": "ipython3",
   "version": "3.8.5"
  }
 },
 "nbformat": 4,
 "nbformat_minor": 4
}
